{
  "nbformat": 4,
  "nbformat_minor": 0,
  "metadata": {
    "colab": {
      "provenance": [],
      "include_colab_link": true
    },
    "kernelspec": {
      "name": "python3",
      "display_name": "Python 3"
    },
    "language_info": {
      "name": "python"
    }
  },
  "cells": [
    {
      "cell_type": "markdown",
      "metadata": {
        "id": "view-in-github",
        "colab_type": "text"
      },
      "source": [
        "<a href=\"https://colab.research.google.com/github/sho6210/SecDev2023/blob/main/MLR.ipynb\" target=\"_parent\"><img src=\"https://colab.research.google.com/assets/colab-badge.svg\" alt=\"Open In Colab\"/></a>"
      ]
    },
    {
      "cell_type": "markdown",
      "source": [
        "# Importing Libraries"
      ],
      "metadata": {
        "id": "C2uEt6ECeG3l"
      }
    },
    {
      "cell_type": "code",
      "source": [
        "import sklearn\n",
        "print(sklearn.__version__)\n",
        "from sklearn.model_selection import train_test_split\n",
        "import pandas as pd\n",
        "import numpy as np\n",
        "from numpy.lib.function_base import vectorize\n",
        "from sklearn.feature_extraction.text import CountVectorizer\n",
        "from numpy.core.fromnumeric import size\n",
        "from sklearn.linear_model import LogisticRegression\n",
        "from sklearn.metrics import confusion_matrix\n",
        "from sklearn.metrics import accuracy_score\n",
        "from sklearn.metrics import classification_report\n",
        "import tqdm\n",
        "import time\n",
        "import json\n",
        "import re\n",
        "import csv\n",
        "import urllib.request\n",
        "import shutil"
      ],
      "metadata": {
        "colab": {
          "base_uri": "https://localhost:8080/"
        },
        "id": "u2iu9jfOyXCG",
        "outputId": "0ca91469-18e7-4a42-ff92-5f0eab2e7f99"
      },
      "execution_count": 13,
      "outputs": [
        {
          "output_type": "stream",
          "name": "stdout",
          "text": [
            "1.2.2\n"
          ]
        }
      ]
    },
    {
      "cell_type": "markdown",
      "source": [
        "# Data"
      ],
      "metadata": {
        "id": "yNbpVXdG30by"
      }
    },
    {
      "cell_type": "code",
      "source": [
        "# Load data\n",
        "df = pd.read_csv(\"https://raw.githubusercontent.com/sho6210/SecDev2023/main/data/cve_2018-2020_complete_dataset.csv\", header=0)\n",
        "X = pd.DataFrame(df[['Description']])\n",
        "y = pd.DataFrame(df[['cvssV3_attackVector','cvssV3_attackComplexity','cvssV3_privilegesRequired','cvssV3_userInteraction',\n",
        "                      'cvssV3_scope','cvssV3_confidentialityImpact','cvssV3_integrityImpact','cvssV3_availabilityImpact']])\n",
        "train_sentence, test_sentence, y_train, y_test = train_test_split(X, y, test_size=0.5, random_state=0)\n",
        "\n",
        "# Display data distribution.\n",
        "print(\"----------y_train:\", y_train.value_counts())\n",
        "print(\"----------y_test:\", y_test.value_counts())\n"
      ],
      "metadata": {
        "id": "2QCcZ0vZ35Hb",
        "outputId": "e5313cbd-4404-409a-b5b2-73fd60ead589",
        "colab": {
          "base_uri": "https://localhost:8080/"
        }
      },
      "execution_count": 14,
      "outputs": [
        {
          "output_type": "stream",
          "name": "stdout",
          "text": [
            "----------y_train: cvssV3_attackVector  cvssV3_attackComplexity  cvssV3_privilegesRequired  cvssV3_userInteraction  cvssV3_scope  cvssV3_confidentialityImpact  cvssV3_integrityImpact  cvssV3_availabilityImpact\n",
            "NETWORK              LOW                      NONE                       NONE                    UNCHANGED     HIGH                          HIGH                    HIGH                         2914\n",
            "                                                                         REQUIRED                CHANGED       LOW                           LOW                     NONE                         1701\n",
            "LOCAL                LOW                      LOW                        NONE                    UNCHANGED     HIGH                          HIGH                    HIGH                         1551\n",
            "NETWORK              LOW                      NONE                       REQUIRED                UNCHANGED     HIGH                          HIGH                    HIGH                         1407\n",
            "                                                                         NONE                    UNCHANGED     NONE                          NONE                    HIGH                         1138\n",
            "                                                                                                                                                                                                  ... \n",
            "                     HIGH                     HIGH                       REQUIRED                CHANGED       HIGH                          HIGH                    HIGH                            1\n",
            "                                                                         NONE                    UNCHANGED     NONE                          LOW                     NONE                            1\n",
            "                                                                                                                                                                     LOW                             1\n",
            "                                                                                                                                                                     HIGH                            1\n",
            "PHYSICAL             LOW                      NONE                       REQUIRED                UNCHANGED     HIGH                          NONE                    NONE                            1\n",
            "Length: 566, dtype: int64\n",
            "----------y_test: cvssV3_attackVector  cvssV3_attackComplexity  cvssV3_privilegesRequired  cvssV3_userInteraction  cvssV3_scope  cvssV3_confidentialityImpact  cvssV3_integrityImpact  cvssV3_availabilityImpact\n",
            "NETWORK              LOW                      NONE                       NONE                    UNCHANGED     HIGH                          HIGH                    HIGH                         2938\n",
            "                                                                         REQUIRED                CHANGED       LOW                           LOW                     NONE                         1662\n",
            "LOCAL                LOW                      LOW                        NONE                    UNCHANGED     HIGH                          HIGH                    HIGH                         1439\n",
            "NETWORK              LOW                      NONE                       REQUIRED                UNCHANGED     HIGH                          HIGH                    HIGH                         1409\n",
            "                                                                         NONE                    UNCHANGED     NONE                          NONE                    HIGH                         1192\n",
            "                                                                                                                                                                                                  ... \n",
            "                     HIGH                     HIGH                       REQUIRED                CHANGED       HIGH                          HIGH                    NONE                            1\n",
            "                                                                                                                                                                     HIGH                            1\n",
            "                                                                         NONE                    UNCHANGED     NONE                          LOW                     HIGH                            1\n",
            "                                                                                                                                             HIGH                    HIGH                            1\n",
            "PHYSICAL             LOW                      NONE                       REQUIRED                UNCHANGED     NONE                          HIGH                    NONE                            1\n",
            "Length: 573, dtype: int64\n"
          ]
        }
      ]
    },
    {
      "cell_type": "markdown",
      "source": [
        "# Make a data set"
      ],
      "metadata": {
        "id": "WSBbUp9PiJnB"
      }
    },
    {
      "cell_type": "code",
      "source": [],
      "metadata": {
        "id": "nmsK4EY-ZjTk"
      },
      "execution_count": 14,
      "outputs": []
    },
    {
      "cell_type": "markdown",
      "source": [
        "# Natural Language Processing (train)"
      ],
      "metadata": {
        "id": "YfYxevRwfneG"
      }
    },
    {
      "cell_type": "code",
      "source": [
        "def NLP_train(train_sentence):\n",
        "  # Natural Language Processing\n",
        "  # Creating BoW features with sklearn's CountVectorizer\n",
        "  vectorizer = CountVectorizer(stop_words=\"english\")\n",
        "  X_train = vectorizer.fit_transform(train_sentence['Description'].values)\n",
        "  print('dimensions:', X_train.shape)\n",
        "\n",
        "  return X_train, vectorizer"
      ],
      "metadata": {
        "id": "UFh_yTKG_L3d"
      },
      "execution_count": 15,
      "outputs": []
    },
    {
      "cell_type": "markdown",
      "source": [
        "# Multinomial Logistic Regression (train)"
      ],
      "metadata": {
        "id": "OhGKDuML0g93"
      }
    },
    {
      "cell_type": "code",
      "source": [
        "def MLR_train(X_train, y_train):\n",
        "  # Create a classification model for MLR using vectorized features\n",
        "  lr = LogisticRegression(C=0.1, random_state=0, n_jobs=-1)\n",
        "  lr.fit(X_train, y_train)\n",
        "\n",
        "  return lr\n",
        "\n"
      ],
      "metadata": {
        "id": "A-Y15tpr_9jv"
      },
      "execution_count": 16,
      "outputs": []
    },
    {
      "cell_type": "markdown",
      "source": [
        "# Natural Language Processing (test)"
      ],
      "metadata": {
        "id": "A1MAf62J0tPh"
      }
    },
    {
      "cell_type": "code",
      "source": [
        "def NLP_test(test_sentence, vectorizer):\n",
        "  # Natural Language Processing\n",
        "  # Creating BoW features with sklearn's CountVectorizer.\n",
        "  X_test = vectorizer.transform(test_sentence['Description'].values)\n",
        "\n",
        "  return X_test"
      ],
      "metadata": {
        "id": "JVv9EtnWlZrm"
      },
      "execution_count": 17,
      "outputs": []
    },
    {
      "cell_type": "markdown",
      "source": [
        "# Multinomial Logistic Regression (test)"
      ],
      "metadata": {
        "id": "2rxS6KVU0vh5"
      }
    },
    {
      "cell_type": "code",
      "source": [
        "def MLR_test(metric, X_test, y_test, lr):\n",
        "  # Test data to confirm accuracy.\n",
        "  y_pred = lr.predict(X_test)\n",
        "  cm = confusion_matrix(y_test, y_pred)\n",
        "\n",
        "  # Branching when creating a table.\n",
        "  if metric == 'cvssV3_attackVector':\n",
        "    table = pd.DataFrame(cm, columns=['Predicted A', 'Predicted L', 'Predicted N', 'Predicted P'], index=['Actual A', 'Actual L', 'Actual N', 'Actual P'])\n",
        "  elif metric == 'cvssV3_attackComplexity':\n",
        "    table = pd.DataFrame(cm, columns=['Predicted H', 'Predicted L'], index=['Actual H', 'Actual L'])\n",
        "  elif metric == 'cvssV3_privilegesRequired':\n",
        "    table = pd.DataFrame(cm, columns=['Predicted H', 'Predicted L', 'Predicted N'], index=['Actual H', 'Actual L', 'Actual N'])\n",
        "  elif metric == 'cvssV3_userInteraction':\n",
        "    table = pd.DataFrame(cm, columns=['Predicted N', 'Predicted R'], index=['Actual N', 'Actual R'])\n",
        "  elif metric == 'cvssV3_scope':\n",
        "    table = pd.DataFrame(cm, columns=['Predicted C', 'Predicted U'], index=['Actual C', 'Actual U'])\n",
        "  else:\n",
        "    table = pd.DataFrame(cm, columns=['Predicted H', 'Predicted L', 'Predicted N'], index=['Actual H', 'Actual L', 'Actual N'])\n",
        "\n",
        "  # Accuracy\n",
        "  print(\"accuracy:\", accuracy_score(y_test, y_pred))\n",
        "  print(classification_report(y_test, y_pred, digits=4))\n",
        "  print(table)\n",
        "  print('-'*70)\n",
        "\n",
        "  # Returns a list containing the prediction results and a data frame for testing.\n",
        "  return y_pred\n",
        "\n"
      ],
      "metadata": {
        "id": "65tQ7Pvnmg76"
      },
      "execution_count": 18,
      "outputs": []
    },
    {
      "cell_type": "markdown",
      "source": [
        "## Extraction of input tokens"
      ],
      "metadata": {
        "id": "5KxnnzIa-LO5"
      }
    },
    {
      "cell_type": "code",
      "source": [
        "def ExtractionTokens(vectorizer, lr):\n",
        "  # Get the name of the feature (word).\n",
        "  feature_names = vectorizer.get_feature_names_out()\n",
        "\n",
        "  # Binary time.\n",
        "  if lr.coef_.shape[0] == 1:\n",
        "    coef = lr.coef_[0]\n",
        "\n",
        "   # Extraction of positively and negatively impacted words.\n",
        "    positive_words = [feature_names[i] for i in coef.argsort()[-10:]]\n",
        "    negative_words = [feature_names[i] for i in coef.argsort()[:10]]\n",
        "\n",
        "    print('Positive words:', positive_words)\n",
        "    print('Negative words:', negative_words)\n",
        "\n",
        "\n",
        "  # At three values or more.\n",
        "  if lr.coef_.shape[0] != 1:\n",
        "\n",
        "    # 分類区分ごとのポジティブとネガティブな単語の抽出\n",
        "    coef_matrix = lr.coef_\n",
        "    for i, class_name in enumerate(lr.classes_):\n",
        "      coef = coef_matrix[i]\n",
        "      positive_words = [feature_names[j] for j in coef.argsort()[-10:]]\n",
        "      negative_words = [feature_names[j] for j in coef.argsort()[:10]]\n",
        "\n",
        "      print(\"Class:\", class_name)\n",
        "      print(\"Positive words:\", positive_words)\n",
        "      print(\"Negative words:\", negative_words)\n",
        "    print('-' * 50)"
      ],
      "metadata": {
        "id": "LmArZLjA8psu"
      },
      "execution_count": 19,
      "outputs": []
    },
    {
      "cell_type": "markdown",
      "source": [
        "# Example"
      ],
      "metadata": {
        "id": "dYF-OpMa03Ra"
      }
    },
    {
      "cell_type": "code",
      "source": [
        "df_tmp = pd.DataFrame()\n",
        "df_result = pd.DataFrame()\n",
        "\n",
        "metrics = ['cvssV3_attackVector','cvssV3_attackComplexity','cvssV3_privilegesRequired','cvssV3_userInteraction',\n",
        "           'cvssV3_scope','cvssV3_confidentialityImpact','cvssV3_integrityImpact','cvssV3_availabilityImpact']\n",
        "\n",
        "for metric in metrics:\n",
        "  X_train, vectorizer = NLP_train(train_sentence)\n",
        "  lr = MLR_train(X_train, y_train[metric])\n",
        "\n",
        "  X_test = NLP_test(test_sentence, vectorizer)\n",
        "  y_pred = MLR_test(metric, X_test, y_test[metric], lr)\n",
        "\n",
        "  ExtractionTokens(vectorizer, lr)\n",
        "\n",
        "  df_tmp[metric] = y_test[metric]\n",
        "  df_tmp[f'pred_{metric}'] = y_pred\n",
        "  df_result[metric] = df_tmp[metric] == df_tmp[f'pred_{metric}']\n",
        "\n",
        "print(df_result.value_counts())"
      ],
      "metadata": {
        "colab": {
          "base_uri": "https://localhost:8080/"
        },
        "id": "oB6I7HqcofQ2",
        "outputId": "cade1182-610d-45b6-bf98-67020f941355"
      },
      "execution_count": 20,
      "outputs": [
        {
          "output_type": "stream",
          "name": "stdout",
          "text": [
            "dimensions: (22963, 36301)\n",
            "accuracy: 0.9011888690502112\n",
            "                  precision    recall  f1-score   support\n",
            "\n",
            "ADJACENT_NETWORK     0.7880    0.4885    0.6031       563\n",
            "           LOCAL     0.8504    0.7645    0.8051      4959\n",
            "         NETWORK     0.9164    0.9630    0.9392     17128\n",
            "        PHYSICAL     0.8471    0.4249    0.5660       313\n",
            "\n",
            "        accuracy                         0.9012     22963\n",
            "       macro avg     0.8505    0.6602    0.7283     22963\n",
            "    weighted avg     0.8981    0.9012    0.8969     22963\n",
            "\n",
            "          Predicted A  Predicted L  Predicted N  Predicted P\n",
            "Actual A          275           32          251            5\n",
            "Actual L           12         3791         1146           10\n",
            "Actual N           58          566        16495            9\n",
            "Actual P            4           69          107          133\n",
            "----------------------------------------------------------------------\n",
            "Class: ADJACENT_NETWORK\n",
            "Positive words: ['wi', 'communication', 'segment', 'zte', 'devices', 'hyper', 'network', 'bluetooth', 'netgear', 'adjacent']\n",
            "Negative words: ['function', 'discovered', 'php', 'successful', 'file', 'enabled', 'update', '14', 'users', '78']\n",
            "Class: LOCAL\n",
            "Positive words: ['radare2', '30102', '30452', '20063', 'ansible', 'artifex', 'dll', 'xpdf', 'logon', 'local']\n",
            "Negative words: ['xss', 'unauthenticated', 'physical', 'inclusion', 'network', 'scripting', 'shader', 'authentication', 'packets', 'usb']\n",
            "Class: NETWORK\n",
            "Positive words: ['url', 'safari', 'qualcomm', 'shader', 'csrf', 'php', 'scripting', 'inclusion', 'remote', 'xss']\n",
            "Negative words: ['local', 'adjacent', 'physical', 'dll', 'logon', 'xpdf', 'netgear', 'usb', 'executes', '30452']\n",
            "Class: PHYSICAL\n",
            "Positive words: ['telium', 'locked', 'proximate', 'screen', 'bios', 'physically', 'lock', 'card', 'usb', 'physical']\n",
            "Negative words: ['remote', 'network', 'authenticated', 'service', 'exists', 'privileged', 'server', 'affects', 'admin', 'process']\n",
            "--------------------------------------------------\n",
            "dimensions: (22963, 36301)\n",
            "accuracy: 0.9599790968079084\n",
            "              precision    recall  f1-score   support\n",
            "\n",
            "        HIGH     0.8698    0.4574    0.5996      1504\n",
            "         LOW     0.9632    0.9952    0.9789     21459\n",
            "\n",
            "    accuracy                         0.9600     22963\n",
            "   macro avg     0.9165    0.7263    0.7893     22963\n",
            "weighted avg     0.9571    0.9600    0.9541     22963\n",
            "\n",
            "          Predicted H  Predicted L\n",
            "Actual H          688          816\n",
            "Actual L          103        21356\n",
            "----------------------------------------------------------------------\n",
            "Positive words: ['stored', 'sending', 'msm', 'jet', 'parameter', 'site', 'handle', 'xss', 'exploitable', 'easily']\n",
            "Negative words: ['race', 'difficult', 'middle', 'man', 'condition', 'mitm', 'timing', 'time', 'freertos', 'aka']\n",
            "dimensions: (22963, 36301)\n",
            "accuracy: 0.8297696294038236\n",
            "              precision    recall  f1-score   support\n",
            "\n",
            "        HIGH     0.7769    0.4450    0.5659      1800\n",
            "         LOW     0.7763    0.6825    0.7264      6406\n",
            "        NONE     0.8516    0.9406    0.8939     14757\n",
            "\n",
            "    accuracy                         0.8298     22963\n",
            "   macro avg     0.8016    0.6894    0.7287     22963\n",
            "weighted avg     0.8247    0.8298    0.8215     22963\n",
            "\n",
            "          Predicted H  Predicted L  Predicted N\n",
            "Actual H          801          471          528\n",
            "Actual L          143         4372         1891\n",
            "Actual N           87          789        13881\n",
            "----------------------------------------------------------------------\n",
            "Class: HIGH\n",
            "Positive words: ['freerdp', 'hyper', 'netgear', 'authenticated', 'administrative', 'admin', 'administrators', 'privileged', 'administrator', 'high']\n",
            "Negative words: ['low', 'additional', 'unauthenticated', 'csrf', 'non', 'default', 'unprivileged', 'adobe', 'including', 'physical']\n",
            "Class: LOW\n",
            "Positive words: ['guard', 'overall', 'e0506p09', 'mall', 'additional', 'jenkins', 'sharepoint', 'local', 'authenticated', 'low']\n",
            "Negative words: ['unauthenticated', 'high', 'administrator', 'administrators', 'administrative', 'admin', 'qualcomm', 'edge', 'exploitation', 'netgear']\n",
            "Class: NONE\n",
            "Positive words: ['contract', 'reflected', 'forgery', 'catalog', 'firefox', 'adobe', 'physical', 'additional', 'csrf', 'unauthenticated']\n",
            "Negative words: ['authenticated', 'local', 'privileged', 'freerdp', 'privilege', 'otrs', 'overall', 'privileges', 'nextcloud', 'kernel']\n",
            "--------------------------------------------------\n",
            "dimensions: (22963, 36301)\n",
            "accuracy: 0.9194356138135261\n",
            "              precision    recall  f1-score   support\n",
            "\n",
            "        NONE     0.9192    0.9614    0.9398     15029\n",
            "    REQUIRED     0.9199    0.8399    0.8781      7934\n",
            "\n",
            "    accuracy                         0.9194     22963\n",
            "   macro avg     0.9196    0.9007    0.9090     22963\n",
            "weighted avg     0.9195    0.9194    0.9185     22963\n",
            "\n",
            "          Predicted N  Predicted R\n",
            "Actual N        14449          580\n",
            "Actual R         1270         6664\n",
            "----------------------------------------------------------------------\n",
            "Positive words: ['site', 'human', 'dll', 'crafted', 'interaction', 'redirect', 'person', 'cross', 'csrf', 'xss']\n",
            "Negative words: ['sql', 'local', 'authenticated', 'bluetooth', 'privilege', 'traversal', 'packets', 'packet', 'upload', '60']\n",
            "dimensions: (22963, 36301)\n",
            "accuracy: 0.960501676610199\n",
            "              precision    recall  f1-score   support\n",
            "\n",
            "     CHANGED     0.9496    0.8129    0.8760      3940\n",
            "   UNCHANGED     0.9624    0.9911    0.9765     19023\n",
            "\n",
            "    accuracy                         0.9605     22963\n",
            "   macro avg     0.9560    0.9020    0.9262     22963\n",
            "weighted avg     0.9602    0.9605    0.9593     22963\n",
            "\n",
            "          Predicted C  Predicted U\n",
            "Actual C         3203          737\n",
            "Actual U          170        18853\n",
            "----------------------------------------------------------------------\n",
            "Positive words: ['password', 'memory', 'forgery', 'objects', 'improperly', 'current', 'attackers', 'function', 'sql', 'csrf']\n",
            "Negative words: ['xss', 'scripting', 'significantly', 'redirect', 'sandbox', 'escape', 'cross', 'additional', 'javascript', 'html']\n",
            "dimensions: (22963, 36301)\n",
            "accuracy: 0.857030875756652\n",
            "              precision    recall  f1-score   support\n",
            "\n",
            "        HIGH     0.8527    0.9388    0.8937     13506\n",
            "         LOW     0.8882    0.7424    0.8087      4514\n",
            "        NONE     0.8449    0.7382    0.7880      4943\n",
            "\n",
            "    accuracy                         0.8570     22963\n",
            "   macro avg     0.8619    0.8065    0.8301     22963\n",
            "weighted avg     0.8580    0.8570    0.8542     22963\n",
            "\n",
            "          Predicted H  Predicted L  Predicted N\n",
            "Actual H        12680          318          508\n",
            "Actual L         1001         3351          162\n",
            "Actual N         1190          104         3649\n",
            "----------------------------------------------------------------------\n",
            "Class: HIGH\n",
            "Positive words: ['csrf', 'sql', 'critical', 'escalation', 'takeover', 'unspecified', 'execute', 'possibly', 'execution', 'confidentiality']\n",
            "Negative words: ['subset', 'xss', 'denial', 'deletion', 'delete', 'needed', 'overwrite', 'vectors', 'spoof', 'spoofing']\n",
            "Class: LOW\n",
            "Positive words: ['view', 'enumeration', 'javascript', 'cross', 'information', 'enumerate', 'scripting', 'redirect', 'subset', 'xss']\n",
            "Negative words: ['csrf', 'denial', 'forgery', 'critical', 'complete', 'corruption', 'takeover', 'heap', 'highly', 'passwords']\n",
            "Class: NONE\n",
            "Positive words: ['dereference', 'modify', 'spoof', 'dos', 'change', 'deletion', 'crash', 'overwrite', 'delete', 'denial']\n",
            "Negative words: ['confidentiality', 'xss', 'possibly', 'information', 'unspecified', 'disclosure', 'execute', 'execution', 'obtain', 'sensitive']\n",
            "--------------------------------------------------\n",
            "dimensions: (22963, 36301)\n",
            "accuracy: 0.8660889256630231\n",
            "              precision    recall  f1-score   support\n",
            "\n",
            "        HIGH     0.8647    0.9066    0.8852     11791\n",
            "         LOW     0.9250    0.7998    0.8579      4101\n",
            "        NONE     0.8390    0.8369    0.8379      7071\n",
            "\n",
            "    accuracy                         0.8661     22963\n",
            "   macro avg     0.8762    0.8478    0.8603     22963\n",
            "weighted avg     0.8675    0.8661    0.8657     22963\n",
            "\n",
            "          Predicted H  Predicted L  Predicted N\n",
            "Actual H        10690          199          902\n",
            "Actual L          587         3280          234\n",
            "Actual N         1086           67         5918\n",
            "----------------------------------------------------------------------\n",
            "Class: HIGH\n",
            "Positive words: ['modification', 'write', 'possibly', 'corruption', 'takeover', 'unspecified', 'execute', 'csrf', 'execution', 'escalation']\n",
            "Negative words: ['xss', 'needed', 'denial', 'enumerate', 'redirect', 'vectors', 'disclose', 'leak', 'disclosure', 'crash']\n",
            "Class: LOW\n",
            "Positive words: ['accessible', 'spoofing', 'inject', 'html', 'delete', 'integrity', 'redirect', 'insert', 'scripting', 'xss']\n",
            "Negative words: ['sql', 'critical', 'denial', 'root', 'administrator', 'read', 'corruption', 'leads', 'passwords', 'traversal']\n",
            "Class: NONE\n",
            "Positive words: ['dos', 'dereference', 'crash', 'disclose', 'read', 'information', 'leak', 'enumerate', 'needed', 'denial']\n",
            "Negative words: ['xss', 'integrity', 'escalation', 'modify', 'delete', 'possibly', 'unspecified', 'injection', 'write', 'execute']\n",
            "--------------------------------------------------\n",
            "dimensions: (22963, 36301)\n",
            "accuracy: 0.8833776074554719\n",
            "              precision    recall  f1-score   support\n",
            "\n",
            "        HIGH     0.8898    0.9179    0.9036     13077\n",
            "         LOW     0.8788    0.3500    0.5006       580\n",
            "        NONE     0.8741    0.8680    0.8711      9306\n",
            "\n",
            "    accuracy                         0.8834     22963\n",
            "   macro avg     0.8809    0.7120    0.7584     22963\n",
            "weighted avg     0.8832    0.8834    0.8803     22963\n",
            "\n",
            "          Predicted H  Predicted L  Predicted N\n",
            "Actual H        12004           22         1051\n",
            "Actual L          265          203          112\n",
            "Actual N         1222            6         8078\n",
            "----------------------------------------------------------------------\n",
            "Class: HIGH\n",
            "Positive words: ['dos', 'credentials', 'escalation', 'availability', 'execution', 'takeover', 'execute', 'crash', 'corruption', 'denial']\n",
            "Negative words: ['xss', 'partial', 'disclosure', 'scripting', 'needed', 'cpanel', 'information', 'redirect', 'enumerate', 'mattermost']\n",
            "Class: LOW\n",
            "Positive words: ['treck', 'processing', 'guard', 'availability', 'package', 'patched', 'denial', 'qemu', 'freerdp', 'partial']\n",
            "Negative words: ['admin', 'implementation', 'credentials', 'corruption', 'component', 'administrator', 'handles', '2019', 'unspecified', 'unauthenticated']\n",
            "Class: NONE\n",
            "Positive words: ['javascript', 'enumerate', 'contract', 'scripting', 'disclose', 'information', 'redirect', 'needed', 'disclosure', 'xss']\n",
            "Negative words: ['denial', 'crash', 'availability', 'dos', 'execute', 'execution', 'corruption', 'escalation', 'takeover', 'buffer']\n",
            "--------------------------------------------------\n",
            "cvssV3_attackVector  cvssV3_attackComplexity  cvssV3_privilegesRequired  cvssV3_userInteraction  cvssV3_scope  cvssV3_confidentialityImpact  cvssV3_integrityImpact  cvssV3_availabilityImpact\n",
            "True                 True                     True                       True                    True          True                          True                    True                         12044\n",
            "                                              False                      True                    True          True                          True                    True                          1950\n",
            "False                True                     True                       True                    True          True                          True                    True                           794\n",
            "True                 True                     True                       True                    True          False                         True                    True                           784\n",
            "                                                                         False                   True          True                          True                    True                           703\n",
            "                                                                                                                                                                                                  ...  \n",
            "False                True                     False                      True                    False         False                         True                    False                            1\n",
            "                                                                                                                                             False                   True                             1\n",
            "                                                                         False                   True          False                         False                   False                            1\n",
            "                                                                                                 False         True                          True                    False                            1\n",
            "                     False                    False                      False                   False         True                          False                   True                             1\n",
            "Length: 197, dtype: int64\n"
          ]
        }
      ]
    },
    {
      "cell_type": "code",
      "source": [],
      "metadata": {
        "id": "gJBg_1P0G4TV"
      },
      "execution_count": 20,
      "outputs": []
    }
  ]
}