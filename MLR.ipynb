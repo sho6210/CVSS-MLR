{
  "nbformat": 4,
  "nbformat_minor": 0,
  "metadata": {
    "colab": {
      "provenance": [],
      "include_colab_link": true
    },
    "kernelspec": {
      "name": "python3",
      "display_name": "Python 3"
    },
    "language_info": {
      "name": "python"
    }
  },
  "cells": [
    {
      "cell_type": "markdown",
      "metadata": {
        "id": "view-in-github",
        "colab_type": "text"
      },
      "source": [
        "<a href=\"https://colab.research.google.com/github/sho6210/SecDev2023/blob/main/MLR.ipynb\" target=\"_parent\"><img src=\"https://colab.research.google.com/assets/colab-badge.svg\" alt=\"Open In Colab\"/></a>"
      ]
    },
    {
      "cell_type": "markdown",
      "source": [
        "# Importing Libraries"
      ],
      "metadata": {
        "id": "C2uEt6ECeG3l"
      }
    },
    {
      "cell_type": "code",
      "source": [
        "import sklearn\n",
        "print(sklearn.__version__)\n",
        "from sklearn.model_selection import train_test_split\n",
        "import pandas as pd\n",
        "import numpy as np\n",
        "from numpy.lib.function_base import vectorize\n",
        "from sklearn.feature_extraction.text import CountVectorizer\n",
        "from numpy.core.fromnumeric import size\n",
        "from sklearn.linear_model import LogisticRegression\n",
        "from sklearn.metrics import confusion_matrix\n",
        "from sklearn.metrics import accuracy_score\n",
        "from sklearn.metrics import classification_report\n",
        "import tqdm\n",
        "import time\n",
        "import json\n",
        "import re\n",
        "import csv\n",
        "import urllib.request\n",
        "import shutil"
      ],
      "metadata": {
        "colab": {
          "base_uri": "https://localhost:8080/"
        },
        "id": "u2iu9jfOyXCG",
        "outputId": "533049b3-a6ca-4930-bcb6-2c12dd3b2a23"
      },
      "execution_count": 1,
      "outputs": [
        {
          "output_type": "stream",
          "name": "stdout",
          "text": [
            "1.2.2\n"
          ]
        }
      ]
    },
    {
      "cell_type": "markdown",
      "source": [
        "# Data"
      ],
      "metadata": {
        "id": "yNbpVXdG30by"
      }
    },
    {
      "cell_type": "code",
      "source": [
        "# Load data\n",
        "metric = 'cvssV3_attackVector'\n",
        "df = pd.read_csv(\"https://raw.githubusercontent.com/sho6210/SecDev2023/main/data/cve_2018-2020_complete_dataset.csv\", header=0)"
      ],
      "metadata": {
        "id": "2QCcZ0vZ35Hb"
      },
      "execution_count": 2,
      "outputs": []
    },
    {
      "cell_type": "markdown",
      "source": [
        "# Make a data set"
      ],
      "metadata": {
        "id": "WSBbUp9PiJnB"
      }
    },
    {
      "cell_type": "code",
      "source": [
        "def DataSetMake(metric):\n",
        "  X = pd.DataFrame(df[['Description']])\n",
        "  y = pd.DataFrame(df[[metric]])\n",
        "  train_sentence, test_sentence, y_train, y_test = train_test_split(X, y, test_size=0.5, random_state=0, stratify=y)\n",
        "\n",
        "  # Display data distribution.\n",
        "  print(\"----------y_train:\", y_train.value_counts())\n",
        "  print(\"----------y_test:\", y_test.value_counts())\n",
        "\n",
        "  return train_sentence, test_sentence, y_train, y_test\n"
      ],
      "metadata": {
        "id": "nmsK4EY-ZjTk"
      },
      "execution_count": 3,
      "outputs": []
    },
    {
      "cell_type": "markdown",
      "source": [
        "# Natural Language Processing (train)"
      ],
      "metadata": {
        "id": "YfYxevRwfneG"
      }
    },
    {
      "cell_type": "code",
      "source": [
        "def NLP_train(train_sentence):\n",
        "  # Natural Language Processing\n",
        "  # Creating BoW features with sklearn's CountVectorizer\n",
        "  vectorizer = CountVectorizer(stop_words=\"english\")\n",
        "  X_train = vectorizer.fit_transform(train_sentence['Description'].values)\n",
        "  print('dimensions:', X_train.shape)\n",
        "  \n",
        "  return X_train, vectorizer"
      ],
      "metadata": {
        "id": "UFh_yTKG_L3d"
      },
      "execution_count": 4,
      "outputs": []
    },
    {
      "cell_type": "markdown",
      "source": [
        "# Multinomial Logistic Regression (train)"
      ],
      "metadata": {
        "id": "OhGKDuML0g93"
      }
    },
    {
      "cell_type": "code",
      "source": [
        "def MLR_train(X_train, y_train): \n",
        "  # Create a classification model for MLR using vectorized features\n",
        "  lr = LogisticRegression(C=0.1, random_state=0, n_jobs=-1)\n",
        "  lr.fit(X_train, y_train)\n",
        "\n",
        "  return lr\n",
        "\n"
      ],
      "metadata": {
        "id": "A-Y15tpr_9jv"
      },
      "execution_count": 5,
      "outputs": []
    },
    {
      "cell_type": "markdown",
      "source": [
        "# Natural Language Processing (test)"
      ],
      "metadata": {
        "id": "A1MAf62J0tPh"
      }
    },
    {
      "cell_type": "code",
      "source": [
        "def NLP_test(test_sentence, vectorizer):\n",
        "  # Natural Language Processing\n",
        "  # Creating BoW features with sklearn's CountVectorizer.\n",
        "  X_test = vectorizer.transform(test_sentence['Description'].values)\n",
        "  \n",
        "  return X_test"
      ],
      "metadata": {
        "id": "JVv9EtnWlZrm"
      },
      "execution_count": 6,
      "outputs": []
    },
    {
      "cell_type": "markdown",
      "source": [
        "# Multinomial Logistic Regression (test)"
      ],
      "metadata": {
        "id": "2rxS6KVU0vh5"
      }
    },
    {
      "cell_type": "code",
      "source": [
        "def MLR_test(metric, X_test, y_test, lr):\n",
        "  # Test data to confirm accuracy.\n",
        "  y_pred = lr.predict(X_test)\n",
        "  cm = confusion_matrix(y_test, y_pred)\n",
        "\n",
        "  # Branching when creating a table.\n",
        "  if metric == 'cvssV3_attackVector':\n",
        "    table = pd.DataFrame(cm, columns=['Predicted A', 'Predicted L', 'Predicted N', 'Predicted P'], index=['Actual A', 'Actual L', 'Actual N', 'Actual P'])\n",
        "  elif metric == 'cvssV3_attackComplexity':\n",
        "    table = pd.DataFrame(cm, columns=['Predicted H', 'Predicted L'], index=['Actual H', 'Actual L'])\n",
        "  elif metric == 'cvssV3_privilegesRequired':\n",
        "    table = pd.DataFrame(cm, columns=['Predicted H', 'Predicted L', 'Predicted N'], index=['Actual H', 'Actual L', 'Actual N'])\n",
        "  elif metric == 'cvssV3_userInteraction':\n",
        "    table = pd.DataFrame(cm, columns=['Predicted N', 'Predicted R'], index=['Actual N', 'Actual R'])\n",
        "  elif metric == 'cvssV3_scope':\n",
        "    table = pd.DataFrame(cm, columns=['Predicted C', 'Predicted U'], index=['Actual C', 'Actual U'])\n",
        "  else:\n",
        "    table = pd.DataFrame(cm, columns=['Predicted H', 'Predicted L', 'Predicted N'], index=['Actual H', 'Actual L', 'Actual N'])\n",
        "\n",
        "  # Accuracy\n",
        "  print(\"accuracy:\", accuracy_score(y_test, y_pred))\n",
        "  print(classification_report(y_test, y_pred, digits=4))\n",
        "  print(table)\n",
        "  print('-'*70)\n",
        "\n",
        "  # Returns a list containing the prediction results and a data frame for testing.\n",
        "  return y_pred\n",
        "\n"
      ],
      "metadata": {
        "id": "65tQ7Pvnmg76"
      },
      "execution_count": 7,
      "outputs": []
    },
    {
      "cell_type": "markdown",
      "source": [
        "## Extraction of input tokens"
      ],
      "metadata": {
        "id": "5KxnnzIa-LO5"
      }
    },
    {
      "cell_type": "code",
      "source": [
        "def ExtractionTokens(vectorizer, lr):\n",
        "  # Get the name of the feature (word).\n",
        "  feature_names = vectorizer.get_feature_names_out() \n",
        "  \n",
        "  # Binary time.\n",
        "  if lr.coef_.shape[0] == 1:\n",
        "    coef = lr.coef_[0] \n",
        "\n",
        "   # Extraction of positively and negatively impacted words.\n",
        "    positive_words = [feature_names[i] for i in coef.argsort()[-10:]]\n",
        "    negative_words = [feature_names[i] for i in coef.argsort()[:10]]\n",
        "\n",
        "    print('Positive words:', positive_words)\n",
        "    print('Negative words:', negative_words)\n",
        "\n",
        "\n",
        "  # At three values or more.\n",
        "  if lr.coef_.shape[0] != 1:\n",
        "\n",
        "    # 分類区分ごとのポジティブとネガティブな単語の抽出\n",
        "    coef_matrix = lr.coef_\n",
        "    for i, class_name in enumerate(lr.classes_):\n",
        "      coef = coef_matrix[i]\n",
        "      positive_words = [feature_names[j] for j in coef.argsort()[-10:]]\n",
        "      negative_words = [feature_names[j] for j in coef.argsort()[:10]]\n",
        "      \n",
        "      print(\"Class:\", class_name)\n",
        "      print(\"Positive words:\", positive_words)\n",
        "      print(\"Negative words:\", negative_words)\n",
        "    print('-' * 50)"
      ],
      "metadata": {
        "id": "LmArZLjA8psu"
      },
      "execution_count": 8,
      "outputs": []
    },
    {
      "cell_type": "markdown",
      "source": [
        "# Example"
      ],
      "metadata": {
        "id": "dYF-OpMa03Ra"
      }
    },
    {
      "cell_type": "code",
      "source": [
        "df_tmp = pd.DataFrame()\n",
        "df_result = pd.DataFrame()\n",
        "\n",
        "metrics = ['cvssV3_attackVector','cvssV3_attackComplexity','cvssV3_privilegesRequired','cvssV3_userInteraction',\n",
        "           'cvssV3_scope','cvssV3_confidentialityImpact','cvssV3_integrityImpact','cvssV3_availabilityImpact']\n",
        "\n",
        "for metric in metrics:\n",
        "  train_sentence, test_sentence, y_train, y_test = DataSetMake(metric)\n",
        "\n",
        "  X_train, vectorizer = NLP_train(train_sentence)\n",
        "  lr = MLR_train(X_train, y_train)\n",
        "\n",
        "  X_test = NLP_test(test_sentence, vectorizer)\n",
        "  y_pred = MLR_test(metric, X_test, y_test, lr)\n",
        "\n",
        "  ExtractionTokens(vectorizer, lr)\n",
        "\n",
        "  df_tmp[metric] = y_test[metric]\n",
        "  df_tmp[f'pred_{metric}'] = y_pred\n",
        "  df_result[metric] = df_tmp[metric] == df_tmp[f'pred_{metric}']\n",
        "\n",
        "print(df_result.value_counts())"
      ],
      "metadata": {
        "colab": {
          "base_uri": "https://localhost:8080/"
        },
        "id": "oB6I7HqcofQ2",
        "outputId": "fd0e39b1-66d3-4f18-f987-55422d63b155"
      },
      "execution_count": 11,
      "outputs": [
        {
          "output_type": "stream",
          "name": "stdout",
          "text": [
            "----------y_train: cvssV3_attackVector\n",
            "NETWORK                17045\n",
            "LOCAL                   5046\n",
            "ADJACENT_NETWORK         575\n",
            "PHYSICAL                 297\n",
            "dtype: int64\n",
            "----------y_test: cvssV3_attackVector\n",
            "NETWORK                17045\n",
            "LOCAL                   5047\n",
            "ADJACENT_NETWORK         575\n",
            "PHYSICAL                 296\n",
            "dtype: int64\n",
            "dimensions: (22963, 36446)\n"
          ]
        },
        {
          "output_type": "stream",
          "name": "stderr",
          "text": [
            "/usr/local/lib/python3.10/dist-packages/sklearn/utils/validation.py:1143: DataConversionWarning: A column-vector y was passed when a 1d array was expected. Please change the shape of y to (n_samples, ), for example using ravel().\n",
            "  y = column_or_1d(y, warn=True)\n"
          ]
        },
        {
          "output_type": "stream",
          "name": "stdout",
          "text": [
            "accuracy: 0.9033227365762313\n",
            "                  precision    recall  f1-score   support\n",
            "\n",
            "ADJACENT_NETWORK     0.7989    0.4974    0.6131       575\n",
            "           LOCAL     0.8613    0.7741    0.8154      5047\n",
            "         NETWORK     0.9165    0.9643    0.9398     17045\n",
            "        PHYSICAL     0.8382    0.3851    0.5278       296\n",
            "\n",
            "        accuracy                         0.9033     22963\n",
            "       macro avg     0.8537    0.6552    0.7240     22963\n",
            "    weighted avg     0.9004    0.9033    0.8990     22963\n",
            "\n",
            "          Predicted A  Predicted L  Predicted N  Predicted P\n",
            "Actual A          286           30          256            3\n",
            "Actual L           16         3907         1114           10\n",
            "Actual N           54          546        16436            9\n",
            "Actual P            2           53          127          114\n",
            "----------------------------------------------------------------------\n",
            "Class: ADJACENT_NETWORK\n",
            "Positive words: ['authenticated', 'devices', 'segment', 'wireless', 'zte', 'network', 'hyper', 'bluetooth', 'netgear', 'adjacent']\n",
            "Negative words: ['file', 'function', 'users', 'php', 'successful', 'discovered', 'application', 'xss', '20', 'fixed']\n",
            "Class: LOCAL\n",
            "Positive words: ['30102', 'executes', 'hijacking', 'locally', 'artifex', 'ansible', 'crafted', 'logon', 'xpdf', 'local']\n",
            "Negative words: ['xss', 'unauthenticated', 'network', 'physical', 'usb', 'scripting', 'http', 'inclusion', 'devices', 'tcp']\n",
            "Class: NETWORK\n",
            "Positive words: ['http', 'token', 'gdi', 'edge', 'libxaac', 'inclusion', 'scripting', 'csrf', 'remote', 'xss']\n",
            "Negative words: ['local', 'adjacent', 'physical', 'netgear', 'logon', 'xpdf', 'executes', 'locally', 'ansible', 'bluetooth']\n",
            "Class: PHYSICAL\n",
            "Positive words: ['smartphones', 'locked', 'telium', 'opensc', 'card', 'proximate', 'physically', 'screen', 'usb', 'physical']\n",
            "Negative words: ['remote', 'authenticated', 'service', 'request', 'network', 'injection', 'server', 'directory', 'macos', 'stack']\n",
            "--------------------------------------------------\n",
            "----------y_train: cvssV3_attackComplexity\n",
            "LOW                        21454\n",
            "HIGH                        1509\n",
            "dtype: int64\n",
            "----------y_test: cvssV3_attackComplexity\n",
            "LOW                        21453\n",
            "HIGH                        1510\n",
            "dtype: int64\n",
            "dimensions: (22963, 36338)\n"
          ]
        },
        {
          "output_type": "stream",
          "name": "stderr",
          "text": [
            "/usr/local/lib/python3.10/dist-packages/sklearn/utils/validation.py:1143: DataConversionWarning: A column-vector y was passed when a 1d array was expected. Please change the shape of y to (n_samples, ), for example using ravel().\n",
            "  y = column_or_1d(y, warn=True)\n"
          ]
        },
        {
          "output_type": "stream",
          "name": "stdout",
          "text": [
            "accuracy: 0.9588903888864695\n",
            "              precision    recall  f1-score   support\n",
            "\n",
            "        HIGH     0.8591    0.4483    0.5892      1510\n",
            "         LOW     0.9624    0.9948    0.9784     21453\n",
            "\n",
            "    accuracy                         0.9589     22963\n",
            "   macro avg     0.9108    0.7216    0.7838     22963\n",
            "weighted avg     0.9556    0.9589    0.9528     22963\n",
            "\n",
            "          Predicted H  Predicted L\n",
            "Actual H          677          833\n",
            "Actual L          111        21342\n",
            "----------------------------------------------------------------------\n",
            "Positive words: ['msm', 'html', 'multiple', 'parameter', 'jet', 'cross', 'injection', 'exploitable', 'xss', 'easily']\n",
            "Negative words: ['race', 'difficult', 'middle', 'man', 'condition', 'mitm', 'timing', 'freertos', 'enabled', 'time']\n",
            "----------y_train: cvssV3_privilegesRequired\n",
            "NONE                         14712\n",
            "LOW                           6490\n",
            "HIGH                          1761\n",
            "dtype: int64\n",
            "----------y_test: cvssV3_privilegesRequired\n",
            "NONE                         14712\n",
            "LOW                           6490\n",
            "HIGH                          1761\n",
            "dtype: int64\n",
            "dimensions: (22963, 36548)\n"
          ]
        },
        {
          "output_type": "stream",
          "name": "stderr",
          "text": [
            "/usr/local/lib/python3.10/dist-packages/sklearn/utils/validation.py:1143: DataConversionWarning: A column-vector y was passed when a 1d array was expected. Please change the shape of y to (n_samples, ), for example using ravel().\n",
            "  y = column_or_1d(y, warn=True)\n"
          ]
        },
        {
          "output_type": "stream",
          "name": "stdout",
          "text": [
            "accuracy: 0.8282889866306667\n",
            "              precision    recall  f1-score   support\n",
            "\n",
            "        HIGH     0.7466    0.4617    0.5705      1761\n",
            "         LOW     0.7786    0.6892    0.7312      6490\n",
            "        NONE     0.8515    0.9335    0.8906     14712\n",
            "\n",
            "    accuracy                         0.8283     22963\n",
            "   macro avg     0.7922    0.6948    0.7308     22963\n",
            "weighted avg     0.8229    0.8283    0.8210     22963\n",
            "\n",
            "          Predicted H  Predicted L  Predicted N\n",
            "Actual H          813          407          541\n",
            "Actual L          163         4473         1854\n",
            "Actual N          113          865        13734\n",
            "----------------------------------------------------------------------\n",
            "Class: HIGH\n",
            "Positive words: ['admins', 'hyper', 'netgear', 'admin', 'authenticated', 'administrative', 'administrator', 'administrators', 'high', 'privileged']\n",
            "Negative words: ['low', 'additional', 'unauthenticated', 'csrf', 'elevate', 'non', 'wordpress', 'crafted', 'unprivileged', 'firefox']\n",
            "Class: LOW\n",
            "Positive words: ['ioctl', 'mall', 'guard', 'e0506p09', 'additional', 'jenkins', 'sharepoint', 'local', 'authenticated', 'low']\n",
            "Negative words: ['unauthenticated', 'high', 'administrator', 'administrators', 'csrf', 'administrative', 'routers', 'forgery', 'admin', 'appears']\n",
            "Class: NONE\n",
            "Positive words: ['chrome', 'tcp', 'man', 'middle', 'firefox', 'physical', 'adobe', 'additional', 'csrf', 'unauthenticated']\n",
            "Negative words: ['authenticated', 'local', 'privileged', 'sharepoint', 'kernel', 'nextcloud', 'privileges', 'privilege', 'stored', 'authorized']\n",
            "--------------------------------------------------\n",
            "----------y_train: cvssV3_userInteraction\n",
            "NONE                      15020\n",
            "REQUIRED                   7943\n",
            "dtype: int64\n",
            "----------y_test: cvssV3_userInteraction\n",
            "NONE                      15019\n",
            "REQUIRED                   7944\n",
            "dtype: int64\n",
            "dimensions: (22963, 36228)\n"
          ]
        },
        {
          "output_type": "stream",
          "name": "stderr",
          "text": [
            "/usr/local/lib/python3.10/dist-packages/sklearn/utils/validation.py:1143: DataConversionWarning: A column-vector y was passed when a 1d array was expected. Please change the shape of y to (n_samples, ), for example using ravel().\n",
            "  y = column_or_1d(y, warn=True)\n"
          ]
        },
        {
          "output_type": "stream",
          "name": "stdout",
          "text": [
            "accuracy: 0.9190436789618082\n",
            "              precision    recall  f1-score   support\n",
            "\n",
            "        NONE     0.9185    0.9616    0.9395     15019\n",
            "    REQUIRED     0.9203    0.8386    0.8776      7944\n",
            "\n",
            "    accuracy                         0.9190     22963\n",
            "   macro avg     0.9194    0.9001    0.9085     22963\n",
            "weighted avg     0.9191    0.9190    0.9181     22963\n",
            "\n",
            "          Predicted N  Predicted R\n",
            "Actual N        14442          577\n",
            "Actual R         1282         6662\n",
            "----------------------------------------------------------------------\n",
            "Positive words: ['successful', 'human', 'site', 'interaction', 'redirect', 'crafted', 'person', 'cross', 'csrf', 'xss']\n",
            "Negative words: ['traversal', 'sql', 'packet', 'authenticated', 'ssrf', 'local', 'guest', 'packets', 'kernel', 'upload']\n",
            "----------y_train: cvssV3_scope\n",
            "UNCHANGED       19028\n",
            "CHANGED          3935\n",
            "dtype: int64\n",
            "----------y_test: cvssV3_scope\n",
            "UNCHANGED       19027\n",
            "CHANGED          3936\n",
            "dtype: int64\n",
            "dimensions: (22963, 36193)\n"
          ]
        },
        {
          "output_type": "stream",
          "name": "stderr",
          "text": [
            "/usr/local/lib/python3.10/dist-packages/sklearn/utils/validation.py:1143: DataConversionWarning: A column-vector y was passed when a 1d array was expected. Please change the shape of y to (n_samples, ), for example using ravel().\n",
            "  y = column_or_1d(y, warn=True)\n"
          ]
        },
        {
          "output_type": "stream",
          "name": "stdout",
          "text": [
            "accuracy: 0.9610678047293472\n",
            "              precision    recall  f1-score   support\n",
            "\n",
            "     CHANGED     0.9557    0.8105    0.8771      3936\n",
            "   UNCHANGED     0.9620    0.9922    0.9769     19027\n",
            "\n",
            "    accuracy                         0.9611     22963\n",
            "   macro avg     0.9588    0.9013    0.9270     22963\n",
            "weighted avg     0.9609    0.9611    0.9598     22963\n",
            "\n",
            "          Predicted C  Predicted U\n",
            "Actual C         3190          746\n",
            "Actual U          148        18879\n",
            "----------------------------------------------------------------------\n",
            "Positive words: ['improperly', 'foxit', 'needed', 'cvss', 'password', 'objects', 'attackers', 'forgery', 'sql', 'csrf']\n",
            "Negative words: ['xss', 'significantly', 'scripting', 'redirect', 'sandbox', 'escape', 'cross', 'hyper', 'javascript', 'ssrf']\n",
            "----------y_train: cvssV3_confidentialityImpact\n",
            "HIGH                            13531\n",
            "NONE                             4914\n",
            "LOW                              4518\n",
            "dtype: int64\n",
            "----------y_test: cvssV3_confidentialityImpact\n",
            "HIGH                            13532\n",
            "NONE                             4914\n",
            "LOW                              4517\n",
            "dtype: int64\n",
            "dimensions: (22963, 35978)\n"
          ]
        },
        {
          "output_type": "stream",
          "name": "stderr",
          "text": [
            "/usr/local/lib/python3.10/dist-packages/sklearn/utils/validation.py:1143: DataConversionWarning: A column-vector y was passed when a 1d array was expected. Please change the shape of y to (n_samples, ), for example using ravel().\n",
            "  y = column_or_1d(y, warn=True)\n"
          ]
        },
        {
          "output_type": "stream",
          "name": "stdout",
          "text": [
            "accuracy: 0.8603405478378261\n",
            "              precision    recall  f1-score   support\n",
            "\n",
            "        HIGH     0.8567    0.9402    0.8965     13532\n",
            "         LOW     0.9019    0.7408    0.8134      4517\n",
            "        NONE     0.8378    0.7503    0.7916      4914\n",
            "\n",
            "    accuracy                         0.8603     22963\n",
            "   macro avg     0.8654    0.8104    0.8338     22963\n",
            "weighted avg     0.8615    0.8603    0.8577     22963\n",
            "\n",
            "          Predicted H  Predicted L  Predicted N\n",
            "Actual H        12723          280          529\n",
            "Actual L          986         3346          185\n",
            "Actual N         1143           84         3687\n",
            "----------------------------------------------------------------------\n",
            "Class: HIGH\n",
            "Positive words: ['possibly', 'critical', 'takeover', 'sql', 'escalation', 'execute', 'unspecified', 'confidentiality', 'complete', 'execution']\n",
            "Negative words: ['subset', 'xss', 'delete', 'denial', 'vectors', 'deletion', 'qemu', 'javascript', 'spoofing', 'overall']\n",
            "Class: LOW\n",
            "Positive words: ['javascript', 'accessible', 'information', 'cross', 'enumerate', 'enumeration', 'redirect', 'scripting', 'subset', 'xss']\n",
            "Negative words: ['csrf', 'complete', 'forgery', 'denial', 'critical', 'corruption', 'commands', 'integrity', 'highly', 'crash']\n",
            "Class: NONE\n",
            "Positive words: ['exhaustion', 'alter', 'panic', 'consumption', 'change', 'overwrite', 'crash', 'deletion', 'delete', 'denial']\n",
            "Negative words: ['confidentiality', 'xss', 'possibly', 'disclosure', 'unspecified', 'execute', 'information', 'execution', 'obtain', 'code']\n",
            "--------------------------------------------------\n",
            "----------y_train: cvssV3_integrityImpact\n",
            "HIGH                      11758\n",
            "NONE                       7086\n",
            "LOW                        4119\n",
            "dtype: int64\n",
            "----------y_test: cvssV3_integrityImpact\n",
            "HIGH                      11759\n",
            "NONE                       7085\n",
            "LOW                        4119\n",
            "dtype: int64\n",
            "dimensions: (22963, 36413)\n"
          ]
        },
        {
          "output_type": "stream",
          "name": "stderr",
          "text": [
            "/usr/local/lib/python3.10/dist-packages/sklearn/utils/validation.py:1143: DataConversionWarning: A column-vector y was passed when a 1d array was expected. Please change the shape of y to (n_samples, ), for example using ravel().\n",
            "  y = column_or_1d(y, warn=True)\n"
          ]
        },
        {
          "output_type": "stream",
          "name": "stdout",
          "text": [
            "accuracy: 0.8687889213081914\n",
            "              precision    recall  f1-score   support\n",
            "\n",
            "        HIGH     0.8641    0.9105    0.8867     11759\n",
            "         LOW     0.9284    0.8094    0.8649      4119\n",
            "        NONE     0.8464    0.8340    0.8402      7085\n",
            "\n",
            "    accuracy                         0.8688     22963\n",
            "   macro avg     0.8797    0.8513    0.8639     22963\n",
            "weighted avg     0.8702    0.8688    0.8684     22963\n",
            "\n",
            "          Predicted H  Predicted L  Predicted N\n",
            "Actual H        10707          198          854\n",
            "Actual L          567         3334          218\n",
            "Actual N         1117           59         5909\n",
            "----------------------------------------------------------------------\n",
            "Class: HIGH\n",
            "Positive words: ['deletion', 'modification', 'write', 'corruption', 'unspecified', 'takeover', 'execute', 'csrf', 'escalation', 'execution']\n",
            "Negative words: ['xss', 'needed', 'leak', 'denial', 'information', 'disclose', 'redirect', 'need', 'javascript', 'enumerate']\n",
            "Class: LOW\n",
            "Positive words: ['reflected', 'inject', 'javascript', 'sharepoint', 'spoofing', 'delete', 'redirect', 'insert', 'scripting', 'xss']\n",
            "Negative words: ['sql', 'critical', 'denial', 'memory', 'read', 'root', 'free', 'heap', 'bounds', 'leak']\n",
            "Class: NONE\n",
            "Positive words: ['download', 'disclosure', 'disclose', 'enumerate', 'crash', 'information', 'read', 'needed', 'leak', 'denial']\n",
            "Negative words: ['xss', 'integrity', 'delete', 'modify', 'escalation', 'unspecified', 'injection', 'modification', 'overwrite', 'spoofing']\n",
            "--------------------------------------------------\n",
            "----------y_train: cvssV3_availabilityImpact\n",
            "HIGH                         13070\n",
            "NONE                          9321\n",
            "LOW                            572\n",
            "dtype: int64\n",
            "----------y_test: cvssV3_availabilityImpact\n",
            "HIGH                         13071\n",
            "NONE                          9320\n",
            "LOW                            572\n",
            "dtype: int64\n",
            "dimensions: (22963, 36423)\n"
          ]
        },
        {
          "output_type": "stream",
          "name": "stderr",
          "text": [
            "/usr/local/lib/python3.10/dist-packages/sklearn/utils/validation.py:1143: DataConversionWarning: A column-vector y was passed when a 1d array was expected. Please change the shape of y to (n_samples, ), for example using ravel().\n",
            "  y = column_or_1d(y, warn=True)\n"
          ]
        },
        {
          "output_type": "stream",
          "name": "stdout",
          "text": [
            "accuracy: 0.8810695466620215\n",
            "              precision    recall  f1-score   support\n",
            "\n",
            "        HIGH     0.8901    0.9143    0.9021     13071\n",
            "         LOW     0.8349    0.3182    0.4608       572\n",
            "        NONE     0.8691    0.8690    0.8690      9320\n",
            "\n",
            "    accuracy                         0.8811     22963\n",
            "   macro avg     0.8647    0.7005    0.7440     22963\n",
            "weighted avg     0.8802    0.8811    0.8777     22963\n",
            "\n",
            "          Predicted H  Predicted L  Predicted N\n",
            "Actual H        11951           31         1089\n",
            "Actual L          259          182          131\n",
            "Actual N         1216            5         8099\n",
            "----------------------------------------------------------------------\n",
            "Class: HIGH\n",
            "Positive words: ['escalation', 'escalate', 'credentials', 'availability', 'execution', 'execute', 'corruption', 'takeover', 'crash', 'denial']\n",
            "Negative words: ['xss', 'partial', 'scripting', 'disclosure', 'information', 'disclose', 'needed', 'redirect', 'cpanel', 'expose']\n",
            "Class: LOW\n",
            "Positive words: ['cause', 'processing', 'hw', 'patched', 'availability', 'denial', 'libvncserver', 'qemu', 'freerdp', 'partial']\n",
            "Negative words: ['root', '2019', 'credentials', 'authentication', 'key', 'elevation', 'aka', 'html', 'insufficient', '12']\n",
            "Class: NONE\n",
            "Positive words: ['ethereum', 'traversal', 'contract', 'scripting', 'redirect', 'disclose', 'information', 'needed', 'disclosure', 'xss']\n",
            "Negative words: ['denial', 'availability', 'crash', 'execute', 'execution', 'escalation', 'dos', 'commands', 'free', 'corruption']\n",
            "--------------------------------------------------\n",
            "cvssV3_attackVector  cvssV3_attackComplexity  cvssV3_privilegesRequired  cvssV3_userInteraction  cvssV3_scope  cvssV3_confidentialityImpact  cvssV3_integrityImpact  cvssV3_availabilityImpact\n",
            "True                 False                    False                      False                   False         False                         False                   False                        1962\n",
            "                     True                     False                      False                   False         False                         False                   False                        1689\n",
            "                     False                    False                      False                   True          False                         False                   False                         964\n",
            "                     True                     False                      False                   True          False                         False                   False                         811\n",
            "                     False                    False                      True                    False         False                         False                   False                         723\n",
            "                                                                                                                                                                                                  ... \n",
            "False                True                     False                      True                    True          True                          True                    True                            1\n",
            "                     False                    True                       True                    False         False                         True                    True                            1\n",
            "                                                                                                 True          True                          True                    False                           1\n",
            "                                                                                                                                             False                   False                           1\n",
            "                                              False                      True                    False         True                          True                    False                           1\n",
            "Length: 248, dtype: int64\n"
          ]
        }
      ]
    },
    {
      "cell_type": "code",
      "source": [],
      "metadata": {
        "id": "gJBg_1P0G4TV"
      },
      "execution_count": null,
      "outputs": []
    }
  ]
}